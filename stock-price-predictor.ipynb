{
 "cells": [
  {
   "cell_type": "code",
   "execution_count": 116,
   "metadata": {
    "scrolled": true
   },
   "outputs": [
    {
     "name": "stdout",
     "output_type": "stream",
     "text": [
      "Requirement already satisfied: tensorflow in /Users/alanjudi/opt/anaconda3/lib/python3.8/site-packages (2.4.0)\n",
      "Requirement already satisfied: astunparse~=1.6.3 in /Users/alanjudi/opt/anaconda3/lib/python3.8/site-packages (from tensorflow) (1.6.3)\n",
      "Requirement already satisfied: keras-preprocessing~=1.1.2 in /Users/alanjudi/opt/anaconda3/lib/python3.8/site-packages (from tensorflow) (1.1.2)\n",
      "Requirement already satisfied: six~=1.15.0 in /Users/alanjudi/opt/anaconda3/lib/python3.8/site-packages (from tensorflow) (1.15.0)\n",
      "Requirement already satisfied: typing-extensions~=3.7.4 in /Users/alanjudi/opt/anaconda3/lib/python3.8/site-packages (from tensorflow) (3.7.4.2)\n",
      "Requirement already satisfied: h5py~=2.10.0 in /Users/alanjudi/opt/anaconda3/lib/python3.8/site-packages (from tensorflow) (2.10.0)\n",
      "Requirement already satisfied: google-pasta~=0.2 in /Users/alanjudi/opt/anaconda3/lib/python3.8/site-packages (from tensorflow) (0.2.0)\n",
      "Requirement already satisfied: tensorflow-estimator<2.5.0,>=2.4.0rc0 in /Users/alanjudi/opt/anaconda3/lib/python3.8/site-packages (from tensorflow) (2.4.0)\n",
      "Requirement already satisfied: tensorboard~=2.4 in /Users/alanjudi/opt/anaconda3/lib/python3.8/site-packages (from tensorflow) (2.4.0)\n",
      "Requirement already satisfied: termcolor~=1.1.0 in /Users/alanjudi/opt/anaconda3/lib/python3.8/site-packages (from tensorflow) (1.1.0)\n",
      "Requirement already satisfied: protobuf>=3.9.2 in /Users/alanjudi/opt/anaconda3/lib/python3.8/site-packages (from tensorflow) (3.14.0)\n",
      "Requirement already satisfied: numpy~=1.19.2 in /Users/alanjudi/opt/anaconda3/lib/python3.8/site-packages (from tensorflow) (1.19.5)\n",
      "Requirement already satisfied: opt-einsum~=3.3.0 in /Users/alanjudi/opt/anaconda3/lib/python3.8/site-packages (from tensorflow) (3.3.0)\n",
      "Requirement already satisfied: wheel~=0.35 in /Users/alanjudi/opt/anaconda3/lib/python3.8/site-packages (from tensorflow) (0.36.2)\n",
      "Requirement already satisfied: wrapt~=1.12.1 in /Users/alanjudi/opt/anaconda3/lib/python3.8/site-packages (from tensorflow) (1.12.1)\n",
      "Requirement already satisfied: flatbuffers~=1.12.0 in /Users/alanjudi/opt/anaconda3/lib/python3.8/site-packages (from tensorflow) (1.12)\n",
      "Requirement already satisfied: absl-py~=0.10 in /Users/alanjudi/opt/anaconda3/lib/python3.8/site-packages (from tensorflow) (0.11.0)\n",
      "Requirement already satisfied: gast==0.3.3 in /Users/alanjudi/opt/anaconda3/lib/python3.8/site-packages (from tensorflow) (0.3.3)\n",
      "Requirement already satisfied: grpcio~=1.32.0 in /Users/alanjudi/opt/anaconda3/lib/python3.8/site-packages (from tensorflow) (1.32.0)\n",
      "Requirement already satisfied: werkzeug>=0.11.15 in /Users/alanjudi/opt/anaconda3/lib/python3.8/site-packages (from tensorboard~=2.4->tensorflow) (1.0.1)\n",
      "Requirement already satisfied: google-auth-oauthlib<0.5,>=0.4.1 in /Users/alanjudi/opt/anaconda3/lib/python3.8/site-packages (from tensorboard~=2.4->tensorflow) (0.4.2)\n",
      "Requirement already satisfied: tensorboard-plugin-wit>=1.6.0 in /Users/alanjudi/opt/anaconda3/lib/python3.8/site-packages (from tensorboard~=2.4->tensorflow) (1.7.0)\n",
      "Requirement already satisfied: markdown>=2.6.8 in /Users/alanjudi/opt/anaconda3/lib/python3.8/site-packages (from tensorboard~=2.4->tensorflow) (3.3.3)\n",
      "Requirement already satisfied: setuptools>=41.0.0 in /Users/alanjudi/opt/anaconda3/lib/python3.8/site-packages (from tensorboard~=2.4->tensorflow) (49.2.0.post20200714)\n",
      "Requirement already satisfied: requests<3,>=2.21.0 in /Users/alanjudi/opt/anaconda3/lib/python3.8/site-packages (from tensorboard~=2.4->tensorflow) (2.24.0)\n",
      "Requirement already satisfied: google-auth<2,>=1.6.3 in /Users/alanjudi/opt/anaconda3/lib/python3.8/site-packages (from tensorboard~=2.4->tensorflow) (1.24.0)\n",
      "Requirement already satisfied: requests-oauthlib>=0.7.0 in /Users/alanjudi/opt/anaconda3/lib/python3.8/site-packages (from google-auth-oauthlib<0.5,>=0.4.1->tensorboard~=2.4->tensorflow) (1.3.0)\n",
      "Requirement already satisfied: urllib3!=1.25.0,!=1.25.1,<1.26,>=1.21.1 in /Users/alanjudi/opt/anaconda3/lib/python3.8/site-packages (from requests<3,>=2.21.0->tensorboard~=2.4->tensorflow) (1.25.9)\n",
      "Requirement already satisfied: idna<3,>=2.5 in /Users/alanjudi/opt/anaconda3/lib/python3.8/site-packages (from requests<3,>=2.21.0->tensorboard~=2.4->tensorflow) (2.10)\n",
      "Requirement already satisfied: chardet<4,>=3.0.2 in /Users/alanjudi/opt/anaconda3/lib/python3.8/site-packages (from requests<3,>=2.21.0->tensorboard~=2.4->tensorflow) (3.0.4)\n",
      "Requirement already satisfied: certifi>=2017.4.17 in /Users/alanjudi/opt/anaconda3/lib/python3.8/site-packages (from requests<3,>=2.21.0->tensorboard~=2.4->tensorflow) (2020.6.20)\n",
      "Requirement already satisfied: cachetools<5.0,>=2.0.0 in /Users/alanjudi/opt/anaconda3/lib/python3.8/site-packages (from google-auth<2,>=1.6.3->tensorboard~=2.4->tensorflow) (4.2.0)\n",
      "Requirement already satisfied: pyasn1-modules>=0.2.1 in /Users/alanjudi/opt/anaconda3/lib/python3.8/site-packages (from google-auth<2,>=1.6.3->tensorboard~=2.4->tensorflow) (0.2.8)\n",
      "Requirement already satisfied: rsa<5,>=3.1.4; python_version >= \"3.6\" in /Users/alanjudi/opt/anaconda3/lib/python3.8/site-packages (from google-auth<2,>=1.6.3->tensorboard~=2.4->tensorflow) (4.7)\n",
      "Requirement already satisfied: oauthlib>=3.0.0 in /Users/alanjudi/opt/anaconda3/lib/python3.8/site-packages (from requests-oauthlib>=0.7.0->google-auth-oauthlib<0.5,>=0.4.1->tensorboard~=2.4->tensorflow) (3.1.0)\n",
      "Requirement already satisfied: pyasn1<0.5.0,>=0.4.6 in /Users/alanjudi/opt/anaconda3/lib/python3.8/site-packages (from pyasn1-modules>=0.2.1->google-auth<2,>=1.6.3->tensorboard~=2.4->tensorflow) (0.4.8)\n",
      "Collecting tensorflow-addons\n",
      "  Downloading tensorflow_addons-0.14.0-cp38-cp38-macosx_10_13_x86_64.whl (575 kB)\n",
      "\u001b[K     |████████████████████████████████| 575 kB 4.1 MB/s eta 0:00:01\n",
      "\u001b[?25hCollecting typeguard>=2.7\n",
      "  Downloading typeguard-2.12.1-py3-none-any.whl (17 kB)\n",
      "Installing collected packages: typeguard, tensorflow-addons\n",
      "Successfully installed tensorflow-addons-0.14.0 typeguard-2.12.1\n"
     ]
    }
   ],
   "source": [
    "!pip3 install tensorflow\n",
    "!pip3 install tensorflow-addons"
   ]
  },
  {
   "cell_type": "markdown",
   "metadata": {},
   "source": [
    "### INTRODUCTION\n",
    "\n",
    "Learning from past data is historically ill-posed. A machine learning model may fit past data well, but may perform poorly on new data. No where is this more true than in the financial markets. Investors want to have a good idea where a stock price is headed before making any investment decisions.\n",
    "\n",
    "### PROBLEM STATEMENT:\n",
    "In this notebook, we aim to produce reliable time-series forecasting of stock prices by using Recurrent Neural Networks. More specifically, we aim to use the Long Short-Term Memory (LSTM) architecture to accomplish better stock price forecasting.\n",
    "\n",
    "### PROBLEM TYPE:\n",
    "The type of problem we are trying to solve is a deep learning problem. We are using Recurrent Neural Networks with LSTM architecture to predict the price of a stock based on a set of features. Our features used to train our model are the open price, close price, low price, high price, and trading volume of a single stock. We construct the model using a **ModelWrapper class**, which uses the Keras module inside its build method. Furthermore, we use MSE for the loss function, adam for the optimizer, and accuracy for model evaluation.\n",
    "\n",
    "\n",
    "### HYPOTHESIS:\n",
    "We hypothesize that reliable stock price forecasting can be made using features sych as the open price, close price, overall day high price, overall day low price, and volume of trading on a given stock."
   ]
  },
  {
   "cell_type": "code",
   "execution_count": 408,
   "metadata": {},
   "outputs": [
    {
     "data": {
      "text/html": [
       "<div>\n",
       "<style scoped>\n",
       "    .dataframe tbody tr th:only-of-type {\n",
       "        vertical-align: middle;\n",
       "    }\n",
       "\n",
       "    .dataframe tbody tr th {\n",
       "        vertical-align: top;\n",
       "    }\n",
       "\n",
       "    .dataframe thead th {\n",
       "        text-align: right;\n",
       "    }\n",
       "</style>\n",
       "<table border=\"1\" class=\"dataframe\">\n",
       "  <thead>\n",
       "    <tr style=\"text-align: right;\">\n",
       "      <th></th>\n",
       "      <th>date</th>\n",
       "      <th>symbol</th>\n",
       "      <th>open</th>\n",
       "      <th>close</th>\n",
       "      <th>low</th>\n",
       "      <th>high</th>\n",
       "      <th>volume</th>\n",
       "    </tr>\n",
       "  </thead>\n",
       "  <tbody>\n",
       "    <tr>\n",
       "      <th>0</th>\n",
       "      <td>2016-01-05</td>\n",
       "      <td>WLTW</td>\n",
       "      <td>123.430000</td>\n",
       "      <td>125.839996</td>\n",
       "      <td>122.309998</td>\n",
       "      <td>126.250000</td>\n",
       "      <td>2163600.0</td>\n",
       "    </tr>\n",
       "    <tr>\n",
       "      <th>1</th>\n",
       "      <td>2016-01-06</td>\n",
       "      <td>WLTW</td>\n",
       "      <td>125.239998</td>\n",
       "      <td>119.980003</td>\n",
       "      <td>119.940002</td>\n",
       "      <td>125.540001</td>\n",
       "      <td>2386400.0</td>\n",
       "    </tr>\n",
       "    <tr>\n",
       "      <th>2</th>\n",
       "      <td>2016-01-07</td>\n",
       "      <td>WLTW</td>\n",
       "      <td>116.379997</td>\n",
       "      <td>114.949997</td>\n",
       "      <td>114.930000</td>\n",
       "      <td>119.739998</td>\n",
       "      <td>2489500.0</td>\n",
       "    </tr>\n",
       "    <tr>\n",
       "      <th>3</th>\n",
       "      <td>2016-01-08</td>\n",
       "      <td>WLTW</td>\n",
       "      <td>115.480003</td>\n",
       "      <td>116.620003</td>\n",
       "      <td>113.500000</td>\n",
       "      <td>117.440002</td>\n",
       "      <td>2006300.0</td>\n",
       "    </tr>\n",
       "    <tr>\n",
       "      <th>4</th>\n",
       "      <td>2016-01-11</td>\n",
       "      <td>WLTW</td>\n",
       "      <td>117.010002</td>\n",
       "      <td>114.970001</td>\n",
       "      <td>114.089996</td>\n",
       "      <td>117.330002</td>\n",
       "      <td>1408600.0</td>\n",
       "    </tr>\n",
       "  </tbody>\n",
       "</table>\n",
       "</div>"
      ],
      "text/plain": [
       "         date symbol        open       close         low        high  \\\n",
       "0  2016-01-05   WLTW  123.430000  125.839996  122.309998  126.250000   \n",
       "1  2016-01-06   WLTW  125.239998  119.980003  119.940002  125.540001   \n",
       "2  2016-01-07   WLTW  116.379997  114.949997  114.930000  119.739998   \n",
       "3  2016-01-08   WLTW  115.480003  116.620003  113.500000  117.440002   \n",
       "4  2016-01-11   WLTW  117.010002  114.970001  114.089996  117.330002   \n",
       "\n",
       "      volume  \n",
       "0  2163600.0  \n",
       "1  2386400.0  \n",
       "2  2489500.0  \n",
       "3  2006300.0  \n",
       "4  1408600.0  "
      ]
     },
     "execution_count": 408,
     "metadata": {},
     "output_type": "execute_result"
    }
   ],
   "source": [
    "import numpy as np\n",
    "import pandas as pd\n",
    "import math\n",
    "import datetime\n",
    "import os\n",
    "import sklearn\n",
    "import sklearn.preprocessing\n",
    "import tensorflow as tf\n",
    "\n",
    "#Read data from CSV and transform into pandas\n",
    "path = 'data/prices-split-adjusted.csv'\n",
    "df = pd.read_csv(path)\n",
    "\n",
    "#Inspect data\n",
    "df.head()"
   ]
  },
  {
   "cell_type": "markdown",
   "metadata": {},
   "source": [
    "### METHODOLOGY: \n",
    " \n",
    "In this notebook, we process the raw data from the csv file into a pandas dataframe and proceed to **normalize** the numerical values of each feature we are interested in. Further processing of the data includes dropping the symbols column and the date column before constructing our train/test sets.\n",
    "\n",
    "#### INPUT DATA\n",
    "Our input data will be a csv file obtained from kaggle [1], which we turn into a pandas dataframe (df). Each row in df has the columns of date, symbol, open, close, high, low, and volume. The middle four columns represent the stock price for a particular day and the last column represents the trading volume for that particular day. The model is trained on windows of these rows, where each window represents x number of rows with all five columns included. In order to improve the reliability of stock forecasting, a model is built and trained on a single stock symbol (i.e. \"AMZN\"). Fetching and processing the input data is done inside the **StockData class**.\n",
    "\n",
    "In the second phase of this project, we train and fit the model using X_train, y_train, X_test, y_test, respectively. The training/test/validation data is data derived from **Data.load_model(stock)** method of the **StockData class**. Furthermore, our **chosen measure of success is accuracy**, which is the rate of correct predictions. High accuracy on validation data is how we have defined reliable forecasting. A validation set is our chosen evaluation protocol and we are looking for lower MSE on Validation scores. The following is the methodology followed in this notebook:\n",
    "\n",
    "1. PREPARING DATA:\n",
    "    - StockData Class\n",
    "    - Get Data for one stock\n",
    "    - Normalize data\n",
    "    - Get model Train/Test data\n",
    "4. BUILDING A MODEL THAT DOES BETTER THAN A VALIDATION RMSE OF 0.5\n",
    "    - ModelWrapper class\n",
    "    - Setting hyperparameters\n",
    "5. TRAIN/FIT MODEL\n",
    "6. TESTING THE MODEL ON X_TEST\n",
    "7. EVALUATING THE MODEL\n",
    "    - Train score and test score\n",
    "    - Hold out validation set\n",
    "8. SCALING UP: DEVELOPING A MODEL THAT OVERFITS\n",
    "    - Hyperparameter tunning and regularization\n",
    "    - Train and fit new model\n",
    "    - Evaluate new model\n",
    "\n",
    "\n",
    "\n",
    "\n",
    "\n",
    "### PREPARING DATA: \n",
    "We implemented a **StockData class** that is capable of retrieving data for a single stock using the get_stock method. Moreover, the class has the normalize and denormalize functionality that is necessary to process our data and then later interpret."
   ]
  },
  {
   "cell_type": "code",
   "execution_count": 462,
   "metadata": {},
   "outputs": [],
   "source": [
    "class StockData(object):\n",
    "    \n",
    "    def __init__(self, path):\n",
    "        ''' Holds data frame'''\n",
    "        \n",
    "        self.df = pd.read_csv(path)\n",
    "        \n",
    "        if self.df.empty:\n",
    "            raise ErrorInvalidCSV(\"Invalid file passed \")\n",
    "            \n",
    "        self.current_symbol = None\n",
    "        \n",
    "            \n",
    "            \n",
    "    #normalize\n",
    "    def normalize(self,df):\n",
    "        '''Normalizes data for a single stock'''\n",
    "        \n",
    "        if not isinstance(df, pd.DataFrame):\n",
    "            raise ValueError(\"Invalid df passed as argument: {}\".format(type(df)))\n",
    "            \n",
    "        MMScaler = sklearn.preprocessing.MinMaxScaler()\n",
    "        df['open'] = MMScaler.fit_transform(df.open.values.reshape(-1,1))\n",
    "        df['high'] = MMScaler.fit_transform(df.high.values.reshape(-1,1))\n",
    "        df['low'] = MMScaler.fit_transform(df.low.values.reshape(-1,1))\n",
    "        df['volume'] = MMScaler.fit_transform(df.volume.values.reshape(-1,1))\n",
    "        df['close'] = MMScaler.fit_transform(df['close'].values.reshape(-1,1))\n",
    "        return df\n",
    "    \n",
    "    #denormalize\n",
    "    def denormalize(self, df, values_normal):\n",
    "        '''Denormalize values coming from Model Predictions'''\n",
    "        \n",
    "        df = df['close'].values.reshape(-1,1)\n",
    "        values_normal = values_normal.reshape(-1,1)\n",
    "\n",
    "        #return df.shape, p.shape\n",
    "        MMScaler = sklearn.preprocessing.MinMaxScaler()\n",
    "        a = MMScaler.fit_transform(df)\n",
    "        denormalized = MMScaler.inverse_transform(values_normal)\n",
    "        \n",
    "        return denormalized\n",
    "    \n",
    "    #load\n",
    "    def load_model_data(self, stock):\n",
    "\n",
    "        try:\n",
    "            stock.values\n",
    "        except:\n",
    "            raise ErrorInvalidStockObject(\"Stock must be a dataframe object with the values attribute\")\n",
    "    \n",
    "        \n",
    "        seq_len = self.window + 1\n",
    "        features = stock.columns\n",
    "        data = stock.values\n",
    "        result = []\n",
    "\n",
    "        for i in range(len(data) - seq_len): \n",
    "            result.append(data[i: i + seq_len]) # index : index + [window]days\n",
    "\n",
    "        result = np.array(result)\n",
    "        \n",
    "        row = int(round((1-vs) * result.shape[0])) \n",
    "        train = result[:row, :]  \n",
    "\n",
    "        x_train = train[:, :-1] \n",
    "        y_train = train[:, -1][:,-1]\n",
    "        \n",
    "        end = int(round((1-(vs/2)) * result.shape[0])) \n",
    "\n",
    "        x_test = result[row:end, :-1] \n",
    "        y_test = result[row:end, -1][:,-1]\n",
    "        \n",
    "        x_valid = result[end:, :-1] \n",
    "        y_valid = result[end:, -1][:,-1]\n",
    "\n",
    "        x_train = np.reshape(x_train, (x_train.shape[0], x_train.shape[1], len(features)))\n",
    "        x_test = np.reshape(x_test, (x_test.shape[0], x_test.shape[1], len(features)))\n",
    "        x_valid = np.reshape(x_valid, (x_valid.shape[0], x_valid.shape[1], len(features)))\n",
    "        \n",
    "        return {\n",
    "            'x_train': x_train,\n",
    "            'y_train': y_train,\n",
    "            'x_test': x_test,\n",
    "            'y_test': y_test, \n",
    "            'x_valid': x_valid,\n",
    "            'y_valid': y_valid,\n",
    "            'window': seq_len -1,\n",
    "            'n_features': len(features)\n",
    "            \n",
    "        }\n",
    "    \n",
    "\n",
    "    def get_stock(self, symbol, parameters):\n",
    "        '''Gets single stock data from pd'''\n",
    "        \n",
    "        stock = self.df[self.df.symbol == symbol].copy()\n",
    "\n",
    "        if stock.empty:\n",
    "            raise SymbolNotFoundError(\"The inputed symbol was not found in the data\")\n",
    "        \n",
    "        #attach symbol\n",
    "        self.current_symbol = symbol\n",
    "            \n",
    "        if \"window\" not in parameters:\n",
    "            raise InvalidParameters(\"No window was supplied to get_stock\")\n",
    "        \n",
    "        self.window = parameters[\"window\"]\n",
    "            \n",
    "        if \"validation_split\" not in parameters:\n",
    "            raise InvalidParameters(\"No validation_split was supplied to get_stock\")\n",
    "        \n",
    "        vs = parameters[\"validation_split\"] \n",
    "        \n",
    "        if vs > 0.9 or vs < 0.1:\n",
    "            raise InvalidParameters(\"validation_split must be between 0.1 and 0.9\")\n",
    "            \n",
    "        self.vs = vs\n",
    "        \n",
    "        ##drop columns not needed for training\n",
    "        stock.drop(['symbol'],1,inplace=True)\n",
    "        \n",
    "        ##Move close to the end\n",
    "        stock[\"mov_close\"] = df.close \n",
    "        stock.drop(['close'], 1, inplace=True) \n",
    "        stock[\"close\"] = stock.mov_close # Moving close to the last column\n",
    "        stock.drop(['mov_close'], 1, inplace=True) \n",
    "        \n",
    "\n",
    "        \n",
    "            \n",
    "        return stock.copy()\n",
    "\n",
    "        \n",
    "        \n",
    "    def __repr__(self):\n",
    "        return ('<StockData load_stock=\"{}\", plot_stock={}>'\n",
    "                .format(self.load_stock, self.plot_stock))\n",
    "    \n",
    "    def __str__(self):\n",
    "        return self.__repr__()\n",
    "    \n",
    "class ErrorInvalidCSV(Exception):\n",
    "    pass\n",
    "\n",
    "class SymbolNotFoundError(Exception):\n",
    "    pass\n",
    "\n",
    "class NoCurrentStockError(Exception):\n",
    "    pass  "
   ]
  },
  {
   "cell_type": "markdown",
   "metadata": {},
   "source": [
    "### GET DATA FOR ONE STOCK:\n",
    "\n",
    "We hypothesize that are models will be most accurate if we have a single model trained on data for a single stock. Different stocks behave differently on the financial markets and we would not want to train the model on every single stock. In order to do this, we need to separate the data for one stock from the rest of the dataframe columns. This is done by using **Data.get_stock(SYMBOL, Params)**."
   ]
  },
  {
   "cell_type": "code",
   "execution_count": 463,
   "metadata": {},
   "outputs": [
    {
     "name": "stdout",
     "output_type": "stream",
     "text": [
      "              date        open         low        high      volume       close\n",
      "284     2010-01-04  136.250000  133.139999  136.610001   7599900.0  133.899994\n",
      "751     2010-01-05  133.429993  131.809998  135.479996   8851900.0  134.690002\n",
      "1219    2010-01-06  134.600006  131.649994  134.729996   7178800.0  132.250000\n",
      "1687    2010-01-07  132.009995  128.800003  132.320007  11030200.0  130.000000\n",
      "2155    2010-01-08  130.559998  129.029999  133.679993   9830500.0  133.520004\n",
      "...            ...         ...         ...         ...         ...         ...\n",
      "848799  2016-12-23  764.549988  757.989990  766.500000   1976900.0  760.590027\n",
      "849299  2016-12-27  763.400024  761.200012  774.650024   2627400.0  771.400024\n",
      "849799  2016-12-28  776.250000  770.500000  780.000000   3279100.0  772.130005\n",
      "850299  2016-12-29  772.400024  760.849976  773.400024   3153500.0  765.150024\n",
      "850799  2016-12-30  766.469971  748.280029  767.400024   4125300.0  749.869995\n",
      "\n",
      "[1762 rows x 6 columns]\n"
     ]
    }
   ],
   "source": [
    "StockDataParameters = {\n",
    "    \"window\": 22,\n",
    "    \"validation_split\": 0.2\n",
    "}\n",
    "\n",
    "\n",
    "Data = StockData('data/prices-split-adjusted.csv')\n",
    "\n",
    "#stock data not normalized\n",
    "stock_data = Data.get_stock(\"AMZN\", StockDataParameters)\n",
    "print(stock_data)"
   ]
  },
  {
   "cell_type": "markdown",
   "metadata": {},
   "source": [
    "### NORMALIZE DATA"
   ]
  },
  {
   "cell_type": "code",
   "execution_count": 464,
   "metadata": {},
   "outputs": [
    {
     "name": "stdout",
     "output_type": "stream",
     "text": [
      "             date      open       low      high    volume     close\n",
      "284    2010-01-04  0.040981  0.037207  0.034406  0.159653  0.034373\n",
      "751    2010-01-05  0.037169  0.035397  0.032870  0.189868  0.035447\n",
      "1219   2010-01-06  0.038751  0.035180  0.031851  0.149491  0.032130\n",
      "1687   2010-01-07  0.035250  0.031301  0.028576  0.242437  0.029072\n",
      "2155   2010-01-08  0.033290  0.031614  0.030424  0.213485  0.033857\n",
      "2623   2010-01-11  0.036074  0.031859  0.029229  0.188118  0.029494\n",
      "3091   2010-01-12  0.031168  0.028239  0.025179  0.195766  0.025471\n",
      "3559   2010-01-13  0.029695  0.027150  0.025030  0.235028  0.027863\n",
      "4027   2010-01-14  0.031371  0.028035  0.025940  0.212143  0.025471\n",
      "4495   2010-01-15  0.031425  0.028933  0.024948  0.347327  0.025185\n",
      "4963   2010-01-19  0.027546  0.025218  0.022706  0.190850  0.025824\n",
      "5431   2010-01-20  0.028654  0.026238  0.024337  0.195245  0.023337\n",
      "5899   2010-01-21  0.028830  0.026130  0.022910  0.216866  0.024478\n",
      "6367   2010-01-22  0.026586  0.020359  0.022258  0.255438  0.017424\n",
      "6835   2010-01-25  0.021855  0.016766  0.014934  0.266418  0.015902\n",
      "7303   2010-01-26  0.019774  0.018046  0.015885  0.206933  0.014774\n",
      "7771   2010-01-27  0.020409  0.017692  0.016360  0.332577  0.019218\n",
      "8239   2010-01-28  0.025005  0.023136  0.021619  0.634913  0.023677\n",
      "8707   2010-01-29  0.032222  0.024959  0.027938  0.687480  0.022834\n",
      "9175   2010-02-01  0.023315  0.010915  0.018440  0.887860  0.013945\n",
      "9643   2010-02-02  0.017382  0.011704  0.010450  0.533230  0.012926\n",
      "10111  2010-02-03  0.015124  0.014643  0.011306  0.275637  0.014258\n"
     ]
    }
   ],
   "source": [
    "#normalize stock data\n",
    "stock_data_norm = Data.normalize(stock_data)\n",
    "\n",
    "## print 1 window \n",
    "print(stock_data_norm[0:StockDataParameters[\"window\"]])\n",
    "\n",
    "#remove date from df\n",
    "dates = stock_data_norm.date\n",
    "stock_data_norm.drop(['date'], 1, inplace=True)"
   ]
  },
  {
   "cell_type": "markdown",
   "metadata": {},
   "source": [
    "### GET MODEL TRAIN/TEST DATA"
   ]
  },
  {
   "cell_type": "code",
   "execution_count": 465,
   "metadata": {},
   "outputs": [
    {
     "name": "stdout",
     "output_type": "stream",
     "text": [
      "Number of features:  5\n",
      "Window =  [[0.48267242 0.48230814 0.48022883 0.04833879 0.4792117 ]\n",
      " [0.48599737 0.48856832 0.49542069 0.0750832  0.49863407]\n",
      " [0.50248699 0.50551172 0.50838407 0.09527303 0.50886852]\n",
      " [0.52258538 0.51660316 0.51895586 0.0909363  0.51578663]\n",
      " [0.51627336 0.51272455 0.51308565 0.05303028 0.51565071]\n",
      " [0.51369178 0.51592271 0.51800466 0.05141577 0.51601766]\n",
      " [0.52135541 0.50340232 0.51686324 0.20247751 0.5077404 ]\n",
      " [0.63939124 0.57641534 0.637678   0.50498712 0.57194698]\n",
      " [0.57013491 0.57267282 0.58927601 0.15702505 0.57465169]\n",
      " [0.58128567 0.56793686 0.57764431 0.10350004 0.5673395 ]\n",
      " [0.57441948 0.57052264 0.57299701 0.06680551 0.57137616]\n",
      " [0.56999978 0.56952911 0.58146266 0.06657625 0.58192323]\n",
      " [0.58546217 0.58345132 0.58640887 0.04926068 0.58109417]\n",
      " [0.58324551 0.57642896 0.58314761 0.04898556 0.57957192]\n",
      " [0.57275703 0.57615676 0.57840526 0.04706456 0.57531775]\n",
      " [0.58507015 0.58290692 0.58138113 0.04597374 0.58226302]\n",
      " [0.58574595 0.57392492 0.58627293 0.06844416 0.5720014 ]\n",
      " [0.57204064 0.56125481 0.56822754 0.07203276 0.56270473]\n",
      " [0.57117567 0.56777356 0.57205948 0.03937331 0.56458037]\n",
      " [0.56459335 0.56641265 0.56757524 0.04083819 0.56928309]\n",
      " [0.56472848 0.55424607 0.56556417 0.07186624 0.56717632]\n",
      " [0.56962129 0.57116222 0.57529346 0.04611371 0.57227317]] \n",
      " y-value =  0.574801261565505 \n",
      "\n",
      "Window =  [[0.61507584 0.61554163 0.62668492 0.07238269 0.62659873]\n",
      " [0.62333414 0.6277627  0.64172733 0.10138597 0.64470271]\n",
      " [0.64670348 0.63930323 0.64335795 0.05157505 0.64051649]\n",
      " [0.64095915 0.64058249 0.65844108 0.08225076 0.65953108]\n",
      " [0.66334176 0.66575941 0.66848295 0.07013348 0.66609584]\n",
      " [0.6668154  0.66196249 0.66509945 0.04096369 0.65923211]\n",
      " [0.65493472 0.65664127 0.66276228 0.04664947 0.66583759]\n",
      " [0.66643691 0.65970332 0.66340089 0.03587158 0.65862047]\n",
      " [0.65531321 0.65249049 0.65520703 0.03196442 0.64903843]\n",
      " [0.65092049 0.65555255 0.66732797 0.04502048 0.6707034 ]\n",
      " [0.66611254 0.65770282 0.66353674 0.05320404 0.65622834]\n",
      " [0.6601114  0.65759392 0.66117237 0.03879411 0.66053685]\n",
      " [0.66257134 0.66563689 0.66951569 0.04150668 0.66234455]\n",
      " [0.66562598 0.66209855 0.66959722 0.03998147 0.67218484]\n",
      " [0.67816885 0.67976319 0.68692247 0.07828567 0.68801905]\n",
      " [0.68815725 0.69307298 0.69720892 0.06100148 0.69607884]\n",
      " [0.69741573 0.69721013 0.70045658 0.04593271 0.70306493]\n",
      " [0.70205173 0.70653244 0.7152272  0.08089447 0.71592251]\n",
      " [0.71798723 0.70087099 0.71572996 0.07412511 0.70579685]\n",
      " [0.70833673 0.70386502 0.71374602 0.03921644 0.71271492]\n",
      " [0.70968834 0.71135005 0.71547178 0.0389003  0.71001021]\n",
      " [0.70086231 0.68829615 0.70246764 0.09893404 0.69573906]] \n",
      " y-value =  0.703486268781217 \n",
      "\n"
     ]
    }
   ],
   "source": [
    "##Get training data\n",
    "model_data = Data.load_model_data(stock_data_norm)\n",
    "\n",
    "X_train, y_train = model_data[\"x_train\"], model_data[\"y_train\"]\n",
    "X_test, y_test = model_data[\"x_test\"], model_data[\"y_test\"]\n",
    "X_valid, y_valid = model_data[\"x_valid\"], model_data[\"y_valid\"]\n",
    "\n",
    "##number of features and sequence length (window)\n",
    "n_features = model_data[\"n_features\"]\n",
    "seq_len = model_data[\"window\"]\n",
    "\n",
    "#print X_test, y_test\n",
    "print(\"Number of features: \", n_features)\n",
    "print(\"Window = \", X_test[0], \"\\n y-value = \" ,y_test[0], \"\\n\")\n",
    "print(\"Window = \", X_valid[0], \"\\n y-value = \" ,y_valid[0], \"\\n\")"
   ]
  },
  {
   "cell_type": "markdown",
   "metadata": {},
   "source": [
    "### ModelWrapper Class:\n",
    "\n",
    "This class takes in model parameters such as decay and dropout, and builds an RNN with LSTM architecture using Keras inside its build method."
   ]
  },
  {
   "cell_type": "code",
   "execution_count": 475,
   "metadata": {},
   "outputs": [],
   "source": [
    "from keras.models import Sequential\n",
    "from keras.layers.core import Dense, Dropout, Activation\n",
    "from keras.layers.recurrent import LSTM\n",
    "from keras.models import load_model\n",
    "import datetime\n",
    "import math, time\n",
    "import keras\n",
    "\n",
    "class InvalidStockObject(Exception):\n",
    "    pass\n",
    "\n",
    "class InvalidParameters(Exception):\n",
    "    pass\n",
    "\n",
    "\n",
    "class ModelWrapper(object):\n",
    "    \n",
    "    def __init__(self, stock, parameters):\n",
    "        '''Initializes model parameters'''\n",
    "        \n",
    "        if \"dropout\" not in parameters:\n",
    "            raise InvalidParameters(\"No dropout was supplied to ModelWrapper\")\n",
    "        \n",
    "        if \"decay\" not in parameters:\n",
    "            raise InvalidParameters(\"No decay was supplied to ModelWrapper\")\n",
    "            \n",
    "            \n",
    "        self.dropout = parameters[\"dropout\"]\n",
    "        self.decay = parameters[\"decay\"]\n",
    "   \n",
    "\n",
    "    def build(self,layers, dense_layers= 16, lstm_layers= 128):\n",
    "        '''Function builds the model'''\n",
    "        model = Sequential()\n",
    "\n",
    "        model.add(LSTM(lstm_layers, input_shape=(layers[1], layers[0]), return_sequences=True))\n",
    "        model.add(Dropout(self.dropout))\n",
    "\n",
    "        model.add(LSTM(lstm_layers, input_shape=(layers[1], layers[0]), return_sequences=False))\n",
    "        model.add(Dropout(self.dropout))\n",
    "\n",
    "        model.add(Dense(dense_layers,kernel_initializer=\"uniform\",activation='relu'))        \n",
    "        model.add(Dense(1,kernel_initializer=\"uniform\",activation='linear'))\n",
    "\n",
    "        adam = keras.optimizers.Adam(decay=self.decay)\n",
    "\n",
    "        start = time.time()\n",
    "        model.compile(loss='mse',optimizer='adam', metrics=['accuracy'])\n",
    "        print(\"Compilation Time : \", time.time() - start)\n",
    "        return model\n",
    "\n",
    "\n",
    "\n",
    "        \n",
    "    def __repr__(self):\n",
    "        return ('<Model epoch_index=\"{}\", permutations={}, seq_len=\"{}\">'.format(self.epoch_index, self.permuations, self.seq_len))\n",
    "    def __str__(self):\n",
    "        return self.__repr__()"
   ]
  },
  {
   "cell_type": "markdown",
   "metadata": {},
   "source": [
    "### BUILDING A MODEL THAT DOES BETTER THAN A VALIDATION RMSE OF 0.5:\n",
    "Our **baseline will be a validation score accuracy RMSE of 0.5.** RMSE values below 0.5 are considered to achieve statistical power. \n",
    "\n",
    "#### Setting hyperparameters:\n",
    "Set dropout and decay parameters inside the ModelParameters. We can keep tuning these parameters to get the best possible results."
   ]
  },
  {
   "cell_type": "code",
   "execution_count": 476,
   "metadata": {},
   "outputs": [
    {
     "name": "stdout",
     "output_type": "stream",
     "text": [
      "Compilation Time :  0.028588056564331055\n"
     ]
    }
   ],
   "source": [
    "#Model specific parameters\n",
    "ModelParameters = {\n",
    "    \"dropout\": 0.1,\n",
    "    \"decay\" : 0.6\n",
    "}\n",
    "\n",
    "model = ModelWrapper(stock, ModelParameters)\n",
    "model = model.build([n_features,seq_len,1])"
   ]
  },
  {
   "cell_type": "markdown",
   "metadata": {},
   "source": [
    "### TRAIN AND FIT MODEL:\n",
    "\n",
    "Set ModelTrainParameters of batch_size and epochs and get validation_split from StockData. From previous trials, we have discovered that 90 epochs with a batch_size of 512 gives a good model that generalizes well."
   ]
  },
  {
   "cell_type": "code",
   "execution_count": 477,
   "metadata": {},
   "outputs": [
    {
     "name": "stdout",
     "output_type": "stream",
     "text": [
      "Train on 1112 samples, validate on 279 samples\n",
      "Epoch 1/45\n",
      "1024/1112 [==========================>...] - ETA: 0s - loss: 0.0356 - acc: 9.7656e-04"
     ]
    },
    {
     "name": "stderr",
     "output_type": "stream",
     "text": [
      "/Users/alanjudi/opt/anaconda3/lib/python3.8/site-packages/tensorflow/python/keras/engine/training.py:2325: UserWarning: `Model.state_updates` will be removed in a future version. This property should not be used in TensorFlow 2.0, as `updates` are applied automatically.\n",
      "  warnings.warn('`Model.state_updates` will be removed in a future version. '\n"
     ]
    },
    {
     "name": "stdout",
     "output_type": "stream",
     "text": [
      "1112/1112 [==============================] - 2s 2ms/sample - loss: 0.0357 - acc: 8.9928e-04 - val_loss: 0.1157 - val_acc: 0.0000e+00\n",
      "Epoch 2/45\n",
      "1112/1112 [==============================] - 0s 384us/sample - loss: 0.0248 - acc: 8.9928e-04 - val_loss: 0.0414 - val_acc: 0.0000e+00\n",
      "Epoch 3/45\n",
      "1112/1112 [==============================] - 0s 403us/sample - loss: 0.0088 - acc: 8.9928e-04 - val_loss: 0.0182 - val_acc: 0.0000e+00\n",
      "Epoch 4/45\n",
      "1112/1112 [==============================] - 0s 429us/sample - loss: 0.0057 - acc: 8.9928e-04 - val_loss: 0.0402 - val_acc: 0.0000e+00\n",
      "Epoch 5/45\n",
      "1112/1112 [==============================] - 0s 414us/sample - loss: 0.0057 - acc: 8.9928e-04 - val_loss: 0.0229 - val_acc: 0.0000e+00\n",
      "Epoch 6/45\n",
      "1112/1112 [==============================] - 0s 413us/sample - loss: 0.0026 - acc: 8.9928e-04 - val_loss: 0.0090 - val_acc: 0.0000e+00\n",
      "Epoch 7/45\n",
      "1112/1112 [==============================] - 0s 410us/sample - loss: 0.0012 - acc: 8.9928e-04 - val_loss: 0.0091 - val_acc: 0.0000e+00\n",
      "Epoch 8/45\n",
      "1112/1112 [==============================] - 0s 400us/sample - loss: 0.0010 - acc: 8.9928e-04 - val_loss: 0.0037 - val_acc: 0.0000e+00\n",
      "Epoch 9/45\n",
      "1112/1112 [==============================] - 0s 390us/sample - loss: 8.0290e-04 - acc: 8.9928e-04 - val_loss: 0.0047 - val_acc: 0.0000e+00\n",
      "Epoch 10/45\n",
      "1112/1112 [==============================] - 0s 393us/sample - loss: 5.8245e-04 - acc: 8.9928e-04 - val_loss: 0.0032 - val_acc: 0.0000e+00\n",
      "Epoch 11/45\n",
      "1112/1112 [==============================] - 0s 400us/sample - loss: 4.4863e-04 - acc: 8.9928e-04 - val_loss: 0.0050 - val_acc: 0.0000e+00\n",
      "Epoch 12/45\n",
      "1112/1112 [==============================] - 0s 395us/sample - loss: 4.2024e-04 - acc: 8.9928e-04 - val_loss: 0.0033 - val_acc: 0.0000e+00\n",
      "Epoch 13/45\n",
      "1112/1112 [==============================] - 0s 384us/sample - loss: 3.7030e-04 - acc: 8.9928e-04 - val_loss: 0.0032 - val_acc: 0.0000e+00\n",
      "Epoch 14/45\n",
      "1112/1112 [==============================] - 0s 381us/sample - loss: 3.2689e-04 - acc: 8.9928e-04 - val_loss: 0.0022 - val_acc: 0.0000e+00\n",
      "Epoch 15/45\n",
      "1112/1112 [==============================] - 0s 390us/sample - loss: 3.2853e-04 - acc: 8.9928e-04 - val_loss: 0.0021 - val_acc: 0.0000e+00\n",
      "Epoch 16/45\n",
      "1112/1112 [==============================] - 0s 391us/sample - loss: 3.2801e-04 - acc: 8.9928e-04 - val_loss: 0.0022 - val_acc: 0.0000e+00\n",
      "Epoch 17/45\n",
      "1112/1112 [==============================] - 0s 386us/sample - loss: 3.2260e-04 - acc: 8.9928e-04 - val_loss: 0.0021 - val_acc: 0.0000e+00\n",
      "Epoch 18/45\n",
      "1112/1112 [==============================] - 0s 393us/sample - loss: 3.1134e-04 - acc: 8.9928e-04 - val_loss: 0.0023 - val_acc: 0.0000e+00\n",
      "Epoch 19/45\n",
      "1112/1112 [==============================] - 0s 391us/sample - loss: 2.9132e-04 - acc: 8.9928e-04 - val_loss: 0.0022 - val_acc: 0.0000e+00\n",
      "Epoch 20/45\n",
      "1112/1112 [==============================] - 0s 391us/sample - loss: 3.1514e-04 - acc: 8.9928e-04 - val_loss: 0.0020 - val_acc: 0.0000e+00\n",
      "Epoch 21/45\n",
      "1112/1112 [==============================] - 0s 391us/sample - loss: 3.0396e-04 - acc: 8.9928e-04 - val_loss: 0.0020 - val_acc: 0.0000e+00\n",
      "Epoch 22/45\n",
      "1112/1112 [==============================] - 0s 381us/sample - loss: 2.9345e-04 - acc: 8.9928e-04 - val_loss: 0.0023 - val_acc: 0.0000e+00\n",
      "Epoch 23/45\n",
      "1112/1112 [==============================] - 0s 390us/sample - loss: 3.2204e-04 - acc: 8.9928e-04 - val_loss: 0.0018 - val_acc: 0.0000e+00\n",
      "Epoch 24/45\n",
      "1112/1112 [==============================] - 0s 382us/sample - loss: 3.1305e-04 - acc: 8.9928e-04 - val_loss: 0.0024 - val_acc: 0.0000e+00\n",
      "Epoch 25/45\n",
      "1112/1112 [==============================] - 0s 407us/sample - loss: 3.0338e-04 - acc: 8.9928e-04 - val_loss: 0.0020 - val_acc: 0.0000e+00\n",
      "Epoch 26/45\n",
      "1112/1112 [==============================] - 1s 472us/sample - loss: 3.0049e-04 - acc: 8.9928e-04 - val_loss: 0.0019 - val_acc: 0.0000e+00\n",
      "Epoch 27/45\n",
      "1112/1112 [==============================] - 0s 388us/sample - loss: 2.9698e-04 - acc: 8.9928e-04 - val_loss: 0.0019 - val_acc: 0.0000e+00\n",
      "Epoch 28/45\n",
      "1112/1112 [==============================] - 0s 382us/sample - loss: 2.8128e-04 - acc: 8.9928e-04 - val_loss: 0.0020 - val_acc: 0.0000e+00\n",
      "Epoch 29/45\n",
      "1112/1112 [==============================] - 0s 381us/sample - loss: 2.8532e-04 - acc: 8.9928e-04 - val_loss: 0.0017 - val_acc: 0.0000e+00\n",
      "Epoch 30/45\n",
      "1112/1112 [==============================] - 0s 382us/sample - loss: 2.8783e-04 - acc: 8.9928e-04 - val_loss: 0.0021 - val_acc: 0.0000e+00\n",
      "Epoch 31/45\n",
      "1112/1112 [==============================] - 0s 381us/sample - loss: 2.8911e-04 - acc: 8.9928e-04 - val_loss: 0.0019 - val_acc: 0.0000e+00\n",
      "Epoch 32/45\n",
      "1112/1112 [==============================] - 0s 375us/sample - loss: 3.1186e-04 - acc: 8.9928e-04 - val_loss: 0.0017 - val_acc: 0.0000e+00\n",
      "Epoch 33/45\n",
      "1112/1112 [==============================] - 0s 380us/sample - loss: 2.9209e-04 - acc: 8.9928e-04 - val_loss: 0.0015 - val_acc: 0.0000e+00\n",
      "Epoch 34/45\n",
      "1112/1112 [==============================] - 0s 388us/sample - loss: 2.9910e-04 - acc: 8.9928e-04 - val_loss: 0.0018 - val_acc: 0.0000e+00\n",
      "Epoch 35/45\n",
      "1112/1112 [==============================] - 0s 392us/sample - loss: 2.7711e-04 - acc: 8.9928e-04 - val_loss: 0.0020 - val_acc: 0.0000e+00\n",
      "Epoch 36/45\n",
      "1112/1112 [==============================] - 1s 452us/sample - loss: 3.2328e-04 - acc: 8.9928e-04 - val_loss: 0.0018 - val_acc: 0.0000e+00\n",
      "Epoch 37/45\n",
      "1112/1112 [==============================] - 0s 419us/sample - loss: 2.8478e-04 - acc: 8.9928e-04 - val_loss: 0.0014 - val_acc: 0.0000e+00\n",
      "Epoch 38/45\n",
      "1112/1112 [==============================] - 0s 390us/sample - loss: 2.7804e-04 - acc: 8.9928e-04 - val_loss: 0.0015 - val_acc: 0.0000e+00\n",
      "Epoch 39/45\n",
      "1112/1112 [==============================] - 0s 387us/sample - loss: 2.7423e-04 - acc: 8.9928e-04 - val_loss: 0.0021 - val_acc: 0.0000e+00\n",
      "Epoch 40/45\n",
      "1112/1112 [==============================] - 0s 372us/sample - loss: 2.9136e-04 - acc: 8.9928e-04 - val_loss: 0.0018 - val_acc: 0.0000e+00\n",
      "Epoch 41/45\n",
      "1112/1112 [==============================] - 0s 418us/sample - loss: 2.8433e-04 - acc: 8.9928e-04 - val_loss: 0.0013 - val_acc: 0.0000e+00\n",
      "Epoch 42/45\n",
      "1112/1112 [==============================] - 0s 375us/sample - loss: 2.8019e-04 - acc: 8.9928e-04 - val_loss: 0.0014 - val_acc: 0.0000e+00\n",
      "Epoch 43/45\n",
      "1112/1112 [==============================] - 0s 383us/sample - loss: 2.9495e-04 - acc: 8.9928e-04 - val_loss: 0.0020 - val_acc: 0.0000e+00\n",
      "Epoch 44/45\n",
      "1112/1112 [==============================] - 0s 379us/sample - loss: 3.1070e-04 - acc: 8.9928e-04 - val_loss: 0.0028 - val_acc: 0.0000e+00\n",
      "Epoch 45/45\n",
      "1112/1112 [==============================] - 0s 372us/sample - loss: 3.5958e-04 - acc: 8.9928e-04 - val_loss: 0.0020 - val_acc: 0.0000e+00\n"
     ]
    },
    {
     "data": {
      "text/plain": [
       "<tensorflow.python.keras.callbacks.History at 0x7fb7c9823dc0>"
      ]
     },
     "execution_count": 477,
     "metadata": {},
     "output_type": "execute_result"
    }
   ],
   "source": [
    "#Parameters of training\n",
    "ModelTrainParameters = {\n",
    "    \"batch_size\": 256,\n",
    "    \"epochs\": 45\n",
    "}\n",
    "\n",
    "#fit the model\n",
    "batch_size = ModelTrainParameters[\"batch_size\"]\n",
    "epochs = ModelTrainParameters[\"epochs\"]\n",
    "vs = StockDataParameters[\"validation_split\"]\n",
    "\n",
    "model.fit(X_train,y_train,batch_size=batch_size,epochs=epochs,validation_split=vs,verbose=1)"
   ]
  },
  {
   "cell_type": "markdown",
   "metadata": {},
   "source": [
    "### TESTING THE MODEL ON X_TEST:\n",
    "\n",
    "Predictions are derived from X_test using the model's predict method. These values are then denormalized and compared to actual values seen in the real data. "
   ]
  },
  {
   "cell_type": "code",
   "execution_count": 478,
   "metadata": {},
   "outputs": [
    {
     "name": "stdout",
     "output_type": "stream",
     "text": [
      "Printing  5 samples to compare.... \n",
      "\n",
      "Prediction: [454.0625], Actual: [531.52002]\n",
      "Prediction: [454.88617], Actual: [535.219971]\n",
      "Prediction: [455.6575], Actual: [535.02002]\n",
      "Prediction: [456.4156], Actual: [532.919983]\n",
      "Prediction: [457.05252], Actual: [515.780029]\n"
     ]
    }
   ],
   "source": [
    "predictions_normal_test = model.predict(X_test)\n",
    "\n",
    "#Get current stock\n",
    "symbol = Data.current_symbol\n",
    "df_stock = Data.get_stock(symbol, StockDataParameters)\n",
    "df_stock.drop(['date'], 1, inplace=True)\n",
    "\n",
    "predictions_denorm_test = Data.denormalize(df_stock, predictions_normal_test)\n",
    "y_test_denorm = Data.denormalize(df_stock, y_test)\n",
    "\n",
    "\n",
    "##Print samples to ensure denormalization is working\n",
    "samples = 5\n",
    "print(\"Printing \", samples, \"samples to compare.... \\n\")\n",
    "for i in range(5):   \n",
    "    print(\"Prediction: {}, Actual: {}\".format(predictions_denorm_test[i], y_test_denorm[i]))"
   ]
  },
  {
   "cell_type": "markdown",
   "metadata": {},
   "source": [
    "### EVALUATING THE MODEL:  \n",
    "\n",
    "\n",
    "#### TRAIN SCORE AND TEST SCORE\n",
    "\n",
    "To evaluate the model, we use the Root Mean-square error for the train/test set, respectively. Values below 0.2 are considered fantastic, and if we are able get a better test score than training score, it means that our model would generalize well!!\n"
   ]
  },
  {
   "cell_type": "code",
   "execution_count": 479,
   "metadata": {},
   "outputs": [
    {
     "name": "stdout",
     "output_type": "stream",
     "text": [
      "TEST SET\n",
      "Train Score: 0.00060 MSE (0.02 RMSE)\n",
      "Test Score: 0.02767118267800616 MSE (0.16634657398938568 RMSE)\n"
     ]
    },
    {
     "data": {
      "image/png": "[encoded data removed]",
      "text/plain": [
       "<Figure size 432x288 with 1 Axes>"
      ]
     },
     "metadata": {
      "needs_background": "light"
     },
     "output_type": "display_data"
    }
   ],
   "source": [
    "import matplotlib.pyplot as plt2\n",
    "\n",
    "#Get current stock\n",
    "symbol = Data.current_symbol\n",
    "df_stock = Data.get_stock(symbol, StockDataParameters)\n",
    "df_stock.drop(['date'], 1, inplace=True)\n",
    "\n",
    "\n",
    "#test set\n",
    "predictions_denorm_test = Data.denormalize(df_stock, predictions_normal_test)\n",
    "y_test_denorm = Data.denormalize(df_stock, y_test)\n",
    "\n",
    "def model_score(model, X, y, X_, y_, valid):\n",
    "    trainScore = model.evaluate(X, y, verbose=0)\n",
    "    print('Train Score: %.5f MSE (%.2f RMSE)' % (trainScore[0], math.sqrt(trainScore[0])))\n",
    "    \n",
    "    testScore = model.evaluate(X_, y_, verbose=0)\n",
    "    test_type = \"Test\"\n",
    "    if valid:\n",
    "        test_type = \"Validation\"  \n",
    "                               \n",
    "    print(\"{} Score: {} MSE ({} RMSE)\".format(test_type, testScore[0], math.sqrt(testScore[0])))\n",
    "    return trainScore[0], testScore[0]\n",
    "\n",
    "def plot_score(model, X, y, X_, y_, pred, actual, valid):\n",
    "    #Score for training score, Test score\n",
    "    model_score(model, X, y, X_, y_, valid)\n",
    "    plt2.plot(pred,color='red', label='Prediction')\n",
    "    plt2.plot(actual,color='blue', label='Actual')\n",
    "    plt2.legend(loc='best')\n",
    "    plt2.show()\n",
    "\n",
    "#VALIDATION SET\n",
    "print(\"TEST SET\")\n",
    "plot_score(model,X_train, y_train, X_test, y_test, predictions_denorm_test,y_test_denorm, valid= False)"
   ]
  },
  {
   "cell_type": "markdown",
   "metadata": {},
   "source": [
    "#### HOLD OUT VALIDATION SET:\n",
    "\n",
    "Our hold out validation set is y_valid, x_valid. We run accuracy measurenments on this hold out set as per our Model Evaluation protocol."
   ]
  },
  {
   "cell_type": "code",
   "execution_count": 480,
   "metadata": {},
   "outputs": [
    {
     "name": "stdout",
     "output_type": "stream",
     "text": [
      "VALIDATION SET\n",
      "Train Score: 0.00060 MSE (0.02 RMSE)\n",
      "Validation Score: 0.1141667279532586 MSE (0.3378856729032153 RMSE)\n"
     ]
    },
    {
     "data": {
      "image/png": "[encoded data removed]",
      "text/plain": [
       "<Figure size 432x288 with 1 Axes>"
      ]
     },
     "metadata": {
      "needs_background": "light"
     },
     "output_type": "display_data"
    }
   ],
   "source": [
    "#VALIDATION SET\n",
    "print(\"VALIDATION SET\")\n",
    "predictions_normal_valid = model.predict(X_valid)\n",
    "df_stock_valid = Data.get_stock(symbol, StockDataParameters)\n",
    "df_stock_valid.drop(['date'], 1, inplace=True)\n",
    "predictions_denorm_valid = Data.denormalize(df_stock_valid, predictions_normal_valid)\n",
    "y_valid_denorm = Data.denormalize(df_stock_valid, y_valid)\n",
    "\n",
    "#Plot and score for validation set\n",
    "plot_score(model,X_train, y_train, X_valid, y_valid, predictions_denorm_valid,y_valid_denorm, valid = True)"
   ]
  },
  {
   "cell_type": "markdown",
   "metadata": {},
   "source": [
    "## SCALING UP: DEVELOPING A MODEL THAT OVERFITS\n",
    "\n",
    "With a validation score accuracy RMSE of 0.337, we can say that our model does better than the baseline of 0.5. Generally speaking, we want a model that does not overfit our training data so that our model can better predict new unseen data, but we also want to fit our training data just enough to get higher validation scores. In this stage, we want to tune our hyperparameters to better fit our training data and achieve better generalization onto validation data.\n",
    "\n",
    "\n",
    "### HYPERPARAMETER TUNING AND REGULARIZATION\n",
    "We can change the number of layers inside the LSTM to 256 and the dense_layer to 32. Moreover, we can train for 90 epochs instead of 45 and increase our batch size to 512. Furthermore, we can increase the dropout to 0.3 from 0.1 and our decay down to 0.2 from 0.6."
   ]
  },
  {
   "cell_type": "code",
   "execution_count": 482,
   "metadata": {},
   "outputs": [
    {
     "name": "stdout",
     "output_type": "stream",
     "text": [
      "Compilation Time :  0.02370309829711914\n"
     ]
    }
   ],
   "source": [
    "#Model specific parameters\n",
    "ModelParameters2 = {\n",
    "    \"dropout\": 0.3,\n",
    "    \"decay\" : 0.2\n",
    "}\n",
    "\n",
    "model2 = ModelWrapper(stock, ModelParameters2)\n",
    "model2 = model2.build([n_features,seq_len,1], dense_layer= 32, lstm_layers=256)"
   ]
  },
  {
   "cell_type": "markdown",
   "metadata": {},
   "source": [
    "### TRAIN AND FIT NEW MODEL"
   ]
  },
  {
   "cell_type": "code",
   "execution_count": 483,
   "metadata": {},
   "outputs": [
    {
     "name": "stdout",
     "output_type": "stream",
     "text": [
      "Train on 1112 samples, validate on 279 samples\n",
      "Epoch 1/45\n",
      "1112/1112 [==============================] - ETA: 0s - loss: 0.0301 - acc: 8.9928e-04"
     ]
    },
    {
     "name": "stderr",
     "output_type": "stream",
     "text": [
      "/Users/alanjudi/opt/anaconda3/lib/python3.8/site-packages/tensorflow/python/keras/engine/training.py:2325: UserWarning: `Model.state_updates` will be removed in a future version. This property should not be used in TensorFlow 2.0, as `updates` are applied automatically.\n",
      "  warnings.warn('`Model.state_updates` will be removed in a future version. '\n"
     ]
    },
    {
     "name": "stdout",
     "output_type": "stream",
     "text": [
      "1112/1112 [==============================] - 2s 2ms/sample - loss: 0.0301 - acc: 8.9928e-04 - val_loss: 0.0129 - val_acc: 0.0000e+00\n",
      "Epoch 2/45\n",
      "1112/1112 [==============================] - 1s 710us/sample - loss: 0.0080 - acc: 8.9928e-04 - val_loss: 0.0420 - val_acc: 0.0000e+00\n",
      "Epoch 3/45\n",
      "1112/1112 [==============================] - 1s 724us/sample - loss: 0.0076 - acc: 8.9928e-04 - val_loss: 0.0168 - val_acc: 0.0000e+00\n",
      "Epoch 4/45\n",
      "1112/1112 [==============================] - 1s 734us/sample - loss: 0.0032 - acc: 8.9928e-04 - val_loss: 0.0085 - val_acc: 0.0000e+00\n",
      "Epoch 5/45\n",
      "1112/1112 [==============================] - 1s 734us/sample - loss: 0.0020 - acc: 8.9928e-04 - val_loss: 0.0155 - val_acc: 0.0000e+00\n",
      "Epoch 6/45\n",
      "1112/1112 [==============================] - 1s 748us/sample - loss: 0.0013 - acc: 8.9928e-04 - val_loss: 0.0040 - val_acc: 0.0000e+00\n",
      "Epoch 7/45\n",
      "1112/1112 [==============================] - 1s 742us/sample - loss: 0.0011 - acc: 8.9928e-04 - val_loss: 0.0066 - val_acc: 0.0000e+00\n",
      "Epoch 8/45\n",
      "1112/1112 [==============================] - 1s 735us/sample - loss: 8.3261e-04 - acc: 8.9928e-04 - val_loss: 0.0029 - val_acc: 0.0000e+00\n",
      "Epoch 9/45\n",
      "1112/1112 [==============================] - 1s 743us/sample - loss: 6.7592e-04 - acc: 8.9928e-04 - val_loss: 0.0042 - val_acc: 0.0000e+00\n",
      "Epoch 10/45\n",
      "1112/1112 [==============================] - 1s 749us/sample - loss: 5.4321e-04 - acc: 8.9928e-04 - val_loss: 0.0029 - val_acc: 0.0000e+00\n",
      "Epoch 11/45\n",
      "1112/1112 [==============================] - 1s 732us/sample - loss: 4.2858e-04 - acc: 8.9928e-04 - val_loss: 0.0033 - val_acc: 0.0000e+00\n",
      "Epoch 12/45\n",
      "1112/1112 [==============================] - 1s 748us/sample - loss: 4.4337e-04 - acc: 8.9928e-04 - val_loss: 0.0026 - val_acc: 0.0000e+00\n",
      "Epoch 13/45\n",
      "1112/1112 [==============================] - 1s 770us/sample - loss: 3.7105e-04 - acc: 8.9928e-04 - val_loss: 0.0027 - val_acc: 0.0000e+00\n",
      "Epoch 14/45\n",
      "1112/1112 [==============================] - 1s 741us/sample - loss: 3.6995e-04 - acc: 8.9928e-04 - val_loss: 0.0019 - val_acc: 0.0000e+00\n",
      "Epoch 15/45\n",
      "1112/1112 [==============================] - 1s 729us/sample - loss: 3.9045e-04 - acc: 8.9928e-04 - val_loss: 0.0022 - val_acc: 0.0000e+00\n",
      "Epoch 16/45\n",
      "1112/1112 [==============================] - 1s 726us/sample - loss: 3.8214e-04 - acc: 8.9928e-04 - val_loss: 0.0018 - val_acc: 0.0000e+00\n",
      "Epoch 17/45\n",
      "1112/1112 [==============================] - 1s 718us/sample - loss: 4.0276e-04 - acc: 8.9928e-04 - val_loss: 0.0021 - val_acc: 0.0000e+00\n",
      "Epoch 18/45\n",
      "1112/1112 [==============================] - 1s 724us/sample - loss: 3.6727e-04 - acc: 8.9928e-04 - val_loss: 0.0018 - val_acc: 0.0000e+00\n",
      "Epoch 19/45\n",
      "1112/1112 [==============================] - 1s 742us/sample - loss: 3.5794e-04 - acc: 8.9928e-04 - val_loss: 0.0019 - val_acc: 0.0000e+00\n",
      "Epoch 20/45\n",
      "1112/1112 [==============================] - 1s 768us/sample - loss: 3.7295e-04 - acc: 8.9928e-04 - val_loss: 0.0017 - val_acc: 0.0000e+00\n",
      "Epoch 21/45\n",
      "1112/1112 [==============================] - 1s 733us/sample - loss: 3.7248e-04 - acc: 8.9928e-04 - val_loss: 0.0018 - val_acc: 0.0000e+00\n",
      "Epoch 22/45\n",
      "1112/1112 [==============================] - 1s 747us/sample - loss: 3.4808e-04 - acc: 8.9928e-04 - val_loss: 0.0021 - val_acc: 0.0000e+00\n",
      "Epoch 23/45\n",
      "1112/1112 [==============================] - 1s 732us/sample - loss: 3.6720e-04 - acc: 8.9928e-04 - val_loss: 0.0016 - val_acc: 0.0000e+00\n",
      "Epoch 24/45\n",
      "1112/1112 [==============================] - 1s 718us/sample - loss: 3.6482e-04 - acc: 8.9928e-04 - val_loss: 0.0015 - val_acc: 0.0000e+00\n",
      "Epoch 25/45\n",
      "1112/1112 [==============================] - 1s 723us/sample - loss: 3.4146e-04 - acc: 8.9928e-04 - val_loss: 0.0016 - val_acc: 0.0000e+00\n",
      "Epoch 26/45\n",
      "1112/1112 [==============================] - 1s 708us/sample - loss: 3.5699e-04 - acc: 8.9928e-04 - val_loss: 0.0016 - val_acc: 0.0000e+00\n",
      "Epoch 27/45\n",
      "1112/1112 [==============================] - 1s 717us/sample - loss: 3.5395e-04 - acc: 8.9928e-04 - val_loss: 0.0014 - val_acc: 0.0000e+00\n",
      "Epoch 28/45\n",
      "1112/1112 [==============================] - 1s 711us/sample - loss: 3.4378e-04 - acc: 8.9928e-04 - val_loss: 0.0013 - val_acc: 0.0000e+00\n",
      "Epoch 29/45\n",
      "1112/1112 [==============================] - 1s 715us/sample - loss: 3.4816e-04 - acc: 8.9928e-04 - val_loss: 0.0019 - val_acc: 0.0000e+00\n",
      "Epoch 30/45\n",
      "1112/1112 [==============================] - 1s 715us/sample - loss: 3.1745e-04 - acc: 8.9928e-04 - val_loss: 0.0017 - val_acc: 0.0000e+00\n",
      "Epoch 31/45\n",
      "1112/1112 [==============================] - 1s 725us/sample - loss: 3.5449e-04 - acc: 8.9928e-04 - val_loss: 0.0014 - val_acc: 0.0000e+00\n",
      "Epoch 32/45\n",
      "1112/1112 [==============================] - 1s 723us/sample - loss: 3.1612e-04 - acc: 8.9928e-04 - val_loss: 0.0013 - val_acc: 0.0000e+00\n",
      "Epoch 33/45\n",
      "1112/1112 [==============================] - 1s 720us/sample - loss: 3.4416e-04 - acc: 8.9928e-04 - val_loss: 0.0017 - val_acc: 0.0000e+00\n",
      "Epoch 34/45\n",
      "1112/1112 [==============================] - 1s 715us/sample - loss: 3.1984e-04 - acc: 8.9928e-04 - val_loss: 0.0015 - val_acc: 0.0000e+00\n",
      "Epoch 35/45\n",
      "1112/1112 [==============================] - 1s 711us/sample - loss: 3.1011e-04 - acc: 8.9928e-04 - val_loss: 0.0013 - val_acc: 0.0000e+00\n",
      "Epoch 36/45\n",
      "1112/1112 [==============================] - 1s 715us/sample - loss: 3.1882e-04 - acc: 8.9928e-04 - val_loss: 0.0012 - val_acc: 0.0000e+00\n",
      "Epoch 37/45\n",
      "1112/1112 [==============================] - 1s 711us/sample - loss: 3.2853e-04 - acc: 8.9928e-04 - val_loss: 0.0013 - val_acc: 0.0000e+00\n",
      "Epoch 38/45\n",
      "1112/1112 [==============================] - 1s 704us/sample - loss: 3.1067e-04 - acc: 8.9928e-04 - val_loss: 0.0018 - val_acc: 0.0000e+00\n",
      "Epoch 39/45\n",
      "1112/1112 [==============================] - 1s 715us/sample - loss: 3.0508e-04 - acc: 8.9928e-04 - val_loss: 0.0017 - val_acc: 0.0000e+00\n",
      "Epoch 40/45\n",
      "1112/1112 [==============================] - 1s 712us/sample - loss: 2.9564e-04 - acc: 8.9928e-04 - val_loss: 0.0012 - val_acc: 0.0000e+00\n",
      "Epoch 41/45\n",
      "1112/1112 [==============================] - 1s 710us/sample - loss: 3.0400e-04 - acc: 8.9928e-04 - val_loss: 0.0012 - val_acc: 0.0000e+00\n",
      "Epoch 42/45\n",
      "1112/1112 [==============================] - 1s 710us/sample - loss: 2.9000e-04 - acc: 8.9928e-04 - val_loss: 0.0011 - val_acc: 0.0000e+00\n",
      "Epoch 43/45\n",
      "1112/1112 [==============================] - 1s 740us/sample - loss: 2.9960e-04 - acc: 8.9928e-04 - val_loss: 0.0011 - val_acc: 0.0000e+00\n",
      "Epoch 44/45\n",
      "1112/1112 [==============================] - 1s 777us/sample - loss: 2.8416e-04 - acc: 8.9928e-04 - val_loss: 0.0011 - val_acc: 0.0000e+00\n",
      "Epoch 45/45\n",
      "1112/1112 [==============================] - 1s 778us/sample - loss: 2.9564e-04 - acc: 8.9928e-04 - val_loss: 0.0012 - val_acc: 0.0000e+00\n"
     ]
    },
    {
     "data": {
      "text/plain": [
       "<tensorflow.python.keras.callbacks.History at 0x7fb7ce311f70>"
      ]
     },
     "execution_count": 483,
     "metadata": {},
     "output_type": "execute_result"
    }
   ],
   "source": [
    "#Parameters of training\n",
    "ModelTrainParameters2 = {\n",
    "    \"batch_size\": 256,\n",
    "    \"epochs\": 45\n",
    "}\n",
    "\n",
    "\n",
    "batch_size2 = ModelTrainParameters2[\"batch_size\"]\n",
    "epochs2 = ModelTrainParameters2[\"epochs\"]\n",
    "vs = StockDataParameters[\"validation_split\"]\n",
    "\n",
    "## FIT AND TRAIN NEW MODEl\n",
    "model2.fit(X_train,y_train,batch_size=batch_size2,epochs=epochs2,validation_split=vs,verbose=1)"
   ]
  },
  {
   "cell_type": "markdown",
   "metadata": {},
   "source": [
    "### EVALUATE NEW MODEL"
   ]
  },
  {
   "cell_type": "code",
   "execution_count": 484,
   "metadata": {
    "scrolled": false
   },
   "outputs": [
    {
     "name": "stdout",
     "output_type": "stream",
     "text": [
      "VALIDATION SET MODEL 2\n",
      "Train Score: 0.00039 MSE (0.02 RMSE)\n",
      "Validation Score: 0.0531572247801841 MSE (0.23055850619785015 RMSE)\n"
     ]
    },
    {
     "data": {
      "image/png": "[encoded data removed]",
      "text/plain": [
       "<Figure size 432x288 with 1 Axes>"
      ]
     },
     "metadata": {
      "needs_background": "light"
     },
     "output_type": "display_data"
    }
   ],
   "source": [
    "#VALIDATION SET\n",
    "print(\"VALIDATION SET MODEL 2\")\n",
    "predictions_normal_valid = model2.predict(X_valid)\n",
    "df_stock_valid = Data.get_stock(symbol, StockDataParameters)\n",
    "df_stock_valid.drop(['date'], 1, inplace=True)\n",
    "predictions_denorm_valid = Data.denormalize(df_stock_valid, predictions_normal_valid)\n",
    "y_valid_denorm = Data.denormalize(df_stock_valid, y_valid)\n",
    "\n",
    "#Plot and score for validation set\n",
    "plot_score(model2,X_train, y_train, X_valid, y_valid, predictions_denorm_valid,y_valid_denorm, valid = True)"
   ]
  },
  {
   "cell_type": "markdown",
   "metadata": {},
   "source": [
    "This time we got a RMSE of 0.23, which is much better than our original 0.337. "
   ]
  },
  {
   "cell_type": "markdown",
   "metadata": {},
   "source": [
    "## CONCULSION\n",
    "\n",
    "The model as defined by our accuracy RMSE baseline of 0.5 on our validation set has clear statistical power. Due to this fact, we can accept the hypothesis that Recurrent Neural Network with LSTM architecuture can produce reliable stock forecasting when trained on 4-features of stock price and 1-feature of stock trading volume. We can achieve better results through hyperparameter tuning, but we must be careful not to overfit our model to our training data as that can lead to poor generalization. "
   ]
  },
  {
   "cell_type": "markdown",
   "metadata": {},
   "source": [
    "### REFERENCES\n",
    "\n",
    "[1] https://www.kaggle.com/raoulma/ny-stock-price-prediction-rnn-lstm-gru/data?select=prices-split-adjusted.csv"
   ]
  }
 ],
 "metadata": {
  "kernelspec": {
   "display_name": "Python 3",
   "language": "python",
   "name": "python3"
  },
  "language_info": {
   "codemirror_mode": {
    "name": "ipython",
    "version": 3
   },
   "file_extension": ".py",
   "mimetype": "text/x-python",
   "name": "python",
   "nbconvert_exporter": "python",
   "pygments_lexer": "ipython3",
   "version": "3.8.3"
  }
 },
 "nbformat": 4,
 "nbformat_minor": 4
}
